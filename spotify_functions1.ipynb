{
 "cells": [
  {
   "cell_type": "code",
   "execution_count": 2,
   "metadata": {},
   "outputs": [],
   "source": [
    "import spotipy\n",
    "import json\n",
    "import pandas as pd\n",
    "import numpy as np"
   ]
  },
  {
   "cell_type": "code",
   "execution_count": 3,
   "metadata": {},
   "outputs": [],
   "source": [
    "data = json.load(open('chill.json'))"
   ]
  },
  {
   "cell_type": "markdown",
   "metadata": {},
   "source": [
    "Get the following attributes which will be used as variables\n",
    "\n",
    "1. total number of followers - the y variable\n",
    "2. number of songs in the playlist\n",
    "3. is the playlist public?\n",
    "4. average and std of the popularity of the songs( 2 variables)\n",
    "5. average and std of length of songs in the playlist (2 variables)\n",
    "6. average and std of acousticness of the songs in the playlist (2 variables)\n",
    "7. average and std of danceability of the songs in the playlist (2 variables)\n",
    "8. average and std of duration of the songs in the playlist (2 variables)\n",
    "9. average and std of energy of the songs in the playlist (2 variables)\n",
    "10. average and std of instrumentalness of the songs in the playlist (2 variables)\n",
    "11. average and std of key of the songs in the playlist (2 variables)\n",
    "12. average and std of liveness of the songs in the playlist (2 variables)\n",
    "13. average and std of loudness of the songs in the playlist (2 variables)\n",
    "14. average and std of mode of the songs in the playlist (2 variables)\n",
    "15. average and std of speechiness of the songs in the playlist (2 variables)\n",
    "16. average and std of tempo of the songs in the playlist (2 variables)\n",
    "17. average and std of time signature of the songs in the playlist (2 variables)\n",
    "18. average and std of valence of the songs in the playlist (2 variables)\n",
    "19. Average number of markets in which the song is available\n",
    "20. Artists\n",
    "\n"
   ]
  },
  {
   "cell_type": "code",
   "execution_count": 16,
   "metadata": {},
   "outputs": [
    {
     "data": {
      "text/plain": [
       "[u'description',\n",
       " u'collaborative',\n",
       " u'external_urls',\n",
       " u'uri',\n",
       " u'public',\n",
       " u'owner',\n",
       " u'tracks',\n",
       " u'href',\n",
       " u'followers',\n",
       " u'snapshot_id',\n",
       " u'images',\n",
       " u'type',\n",
       " u'id',\n",
       " u'name']"
      ]
     },
     "execution_count": 16,
     "metadata": {},
     "output_type": "execute_result"
    }
   ],
   "source": [
    "data[0].keys()"
   ]
  },
  {
   "cell_type": "code",
   "execution_count": 39,
   "metadata": {},
   "outputs": [
    {
     "data": {
      "text/plain": [
       "[u'album',\n",
       " u'name',\n",
       " u'uri',\n",
       " u'external_urls',\n",
       " u'popularity',\n",
       " u'explicit',\n",
       " u'preview_url',\n",
       " u'audio_features',\n",
       " u'track_number',\n",
       " u'disc_number',\n",
       " u'href',\n",
       " u'artists',\n",
       " u'duration_ms',\n",
       " u'external_ids',\n",
       " u'type',\n",
       " u'id',\n",
       " u'available_markets']"
      ]
     },
     "execution_count": 39,
     "metadata": {},
     "output_type": "execute_result"
    }
   ],
   "source": [
    "data[0]['tracks']['items'][0]['track'].keys()"
   ]
  },
  {
   "cell_type": "code",
   "execution_count": 87,
   "metadata": {},
   "outputs": [
    {
     "data": {
      "text/plain": [
       "265840"
      ]
     },
     "execution_count": 87,
     "metadata": {},
     "output_type": "execute_result"
    }
   ],
   "source": [
    "data[0]['tracks']['items'][0]['track']['duration_ms']"
   ]
  },
  {
   "cell_type": "code",
   "execution_count": 42,
   "metadata": {},
   "outputs": [
    {
     "data": {
      "text/plain": [
       "2773642"
      ]
     },
     "execution_count": 42,
     "metadata": {},
     "output_type": "execute_result"
    }
   ],
   "source": [
    "data[0]['followers']['total']"
   ]
  },
  {
   "cell_type": "markdown",
   "metadata": {},
   "source": [
    "# start of functions"
   ]
  },
  {
   "cell_type": "code",
   "execution_count": 47,
   "metadata": {},
   "outputs": [],
   "source": [
    "# function for number of followers\n",
    "def followers(dicton):\n",
    "\n",
    "    return dicton['followers']['total']"
   ]
  },
  {
   "cell_type": "code",
   "execution_count": 113,
   "metadata": {},
   "outputs": [],
   "source": [
    "# function to tell if a playlist is public\n",
    "def is_public(dicton):\n",
    "\n",
    "    return dicton['public']"
   ]
  },
  {
   "cell_type": "code",
   "execution_count": 75,
   "metadata": {},
   "outputs": [],
   "source": [
    "# function for number of songs in the playlist\n",
    "def no_of_songs(dicton):\n",
    "\n",
    "    return len(dicton['tracks']['items'])"
   ]
  },
  {
   "cell_type": "code",
   "execution_count": 70,
   "metadata": {},
   "outputs": [],
   "source": [
    "# function for the number of markets in which the playlist is available\n",
    "def num_of_markets(dicton):\n",
    "\n",
    "    items = dicton['tracks']['items']\n",
    "    \n",
    "    markets = []\n",
    "    \n",
    "    for i in items:\n",
    "        \n",
    "        markets.append(len(i['track']['available_markets']))\n",
    "    \n",
    "    return np.mean(markets)"
   ]
  },
  {
   "cell_type": "code",
   "execution_count": 82,
   "metadata": {},
   "outputs": [],
   "source": [
    "# function for the average popularity of the songs in a playlist\n",
    "def avg_popularity(dicton):\n",
    "\n",
    "    items = dicton['tracks']['items']\n",
    "    \n",
    "    popularity = []\n",
    "    \n",
    "    for i in items:\n",
    "        \n",
    "        popularity.append((i['track']['popularity']))\n",
    "    \n",
    "    return np.mean(popularity)"
   ]
  },
  {
   "cell_type": "code",
   "execution_count": 84,
   "metadata": {},
   "outputs": [],
   "source": [
    "# function for the std of the popularity of the songs in a playlist\n",
    "def std_popularity(dicton):\n",
    "\n",
    "    items = dicton['tracks']['items']\n",
    "    \n",
    "    popularity = []\n",
    "    \n",
    "    for i in items:\n",
    "        \n",
    "        popularity.append((i['track']['popularity']))\n",
    "    \n",
    "    return np.std(popularity)"
   ]
  },
  {
   "cell_type": "code",
   "execution_count": 88,
   "metadata": {},
   "outputs": [],
   "source": [
    "# function for the average duration of the songs in a playlist\n",
    "def avg_duration(dicton):\n",
    "\n",
    "    items = dicton['tracks']['items']\n",
    "    \n",
    "    duration = []\n",
    "    \n",
    "    for i in items:\n",
    "        \n",
    "        duration.append((i['track']['duration_ms']))\n",
    "    \n",
    "    return np.mean(duration)"
   ]
  },
  {
   "cell_type": "code",
   "execution_count": 90,
   "metadata": {},
   "outputs": [],
   "source": [
    "# function for the std duration of the songs in a playlist\n",
    "def std_duration(dicton):\n",
    "\n",
    "    items = dicton['tracks']['items']\n",
    "    \n",
    "    duration = []\n",
    "    \n",
    "    for i in items:\n",
    "        \n",
    "        duration.append((i['track']['duration_ms']))\n",
    "    \n",
    "    return np.std(duration)"
   ]
  },
  {
   "cell_type": "code",
   "execution_count": 115,
   "metadata": {},
   "outputs": [
    {
     "name": "stdout",
     "output_type": "stream",
     "text": [
      "38950.4442251\n",
      "77743.6471349\n",
      "40233.9593821\n",
      "33629.0210695\n",
      "119071.665951\n",
      "79986.3482036\n",
      "36840.115172\n",
      "30343.4015745\n",
      "109573.410086\n",
      "64779.7784674\n",
      "60038.4256722\n",
      "36199.836212\n",
      "34018.9718146\n",
      "32960.9050484\n",
      "34050.6761811\n",
      "113352.72488\n",
      "28781.1992285\n",
      "33673.3347899\n",
      "76482.8125209\n",
      "107677.448639\n",
      "184229.665294\n",
      "37913.639509\n",
      "44472.4607075\n",
      "52082.8458973\n",
      "55952.8341401\n",
      "53672.8354379\n",
      "46877.2736907\n",
      "48345.4943985\n",
      "41394.6496148\n",
      "43536.4047626\n",
      "25650.7961613\n",
      "54816.7836867\n",
      "112280.513924\n",
      "304867.927982\n",
      "56637.0367082\n",
      "77957.5451388\n",
      "62130.5760161\n",
      "93501.6567944\n",
      "49523.3222182\n",
      "57073.376203\n"
     ]
    }
   ],
   "source": [
    "for i in data:\n",
    "    print(std_duration(i))"
   ]
  },
  {
   "cell_type": "code",
   "execution_count": null,
   "metadata": {},
   "outputs": [],
   "source": [
    ""
   ]
  }
 ],
 "metadata": {
  "kernelspec": {
   "display_name": "Python 2",
   "language": "python",
   "name": "python2"
  },
  "language_info": {
   "codemirror_mode": {
    "name": "ipython",
    "version": 2.0
   },
   "file_extension": ".py",
   "mimetype": "text/x-python",
   "name": "python",
   "nbconvert_exporter": "python",
   "pygments_lexer": "ipython2",
   "version": "2.7.13"
  }
 },
 "nbformat": 4,
 "nbformat_minor": 0
}